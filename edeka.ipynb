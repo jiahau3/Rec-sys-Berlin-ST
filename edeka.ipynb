{
 "cells": [
  {
   "cell_type": "code",
   "execution_count": 1,
   "metadata": {},
   "outputs": [],
   "source": [
    "from bs4 import BeautifulSoup\n",
    "import requests\n",
    "import pandas as pd\n",
    "from selenium import webdriver\n",
    "from selenium.webdriver.common.by import By\n",
    "from selenium.webdriver.support.ui import WebDriverWait\n",
    "from selenium.webdriver.support import expected_conditions as EC\n",
    "from selenium.webdriver.chrome.options import Options"
   ]
  },
  {
   "cell_type": "code",
   "execution_count": 2,
   "metadata": {},
   "outputs": [],
   "source": [
    "url = 'https://www.edeka24.de/Lebensmittel/Kaffee-Tee/EDEKA-Bio-Fettarme-H-Milch-1-5-1L.html'\n",
    "options = Options()\n",
    "options.add_argument(\"--headless=new\")\n",
    "driver = webdriver.Chrome(options = options)\n",
    "# driver = webdriver.Chrome()\n",
    "driver.get(url)"
   ]
  },
  {
   "cell_type": "code",
   "execution_count": 3,
   "metadata": {},
   "outputs": [
    {
     "data": {
      "text/plain": [
       "'EDEKA Bio Fettarme H-Milch 1,5% 1L'"
      ]
     },
     "execution_count": 3,
     "metadata": {},
     "output_type": "execute_result"
    }
   ],
   "source": [
    "p = '//*[@id=\"wrapper\"]/div[5]/div/div[2]/div[1]/div[2]/h1'\n",
    "p_name = driver.find_element(By.XPATH, p).text\n",
    "p_name"
   ]
  },
  {
   "cell_type": "code",
   "execution_count": 4,
   "metadata": {},
   "outputs": [
    {
     "data": {
      "text/plain": [
       "'EDEKA'"
      ]
     },
     "execution_count": 4,
     "metadata": {},
     "output_type": "execute_result"
    }
   ],
   "source": [
    "p_brand = p_name.split(' ')[0]\n",
    "p_brand"
   ]
  },
  {
   "cell_type": "code",
   "execution_count": 5,
   "metadata": {},
   "outputs": [
    {
     "data": {
      "text/plain": [
       "'Bio Fettarme H-Milch, 1,5% Fett, ultrahocherhitzt, homogenisiertultrahocherhitzthomogenisiert1,5% Fettaus kontrolliert ökologischer LandwirtschaftHinweis zur Aufbewahrung: Nach dem Öffnen kühl lagern und alsbaldig aufbrauchen.Verantwortliches Lebensmittelunternehmen:EDEKA ZENTRALE Stiftung & Co. KG, D-22291 HamburgÖko-Kontrollstellencode: AT-BIO-902'"
      ]
     },
     "execution_count": 5,
     "metadata": {},
     "output_type": "execute_result"
    }
   ],
   "source": [
    "p= '//*[@id=\"description\"]'\n",
    "p_desc = driver.find_element(By.XPATH ,p).text.strip().replace('\\n', '')\n",
    "\n",
    "p_desc"
   ]
  },
  {
   "cell_type": "code",
   "execution_count": 6,
   "metadata": {},
   "outputs": [
    {
     "data": {
      "text/plain": [
       "'https://www.edeka24.de/out/pictures/generated/product/1/540_540_90/bio_edeka_hmilch_fettarm_15_1l.jpg'"
      ]
     },
     "execution_count": 6,
     "metadata": {},
     "output_type": "execute_result"
    }
   ],
   "source": [
    "p='//*[@id=\"wrapper\"]/div[5]/div/div[2]/div[1]/div[1]/div/img'\n",
    "p_img =  driver.find_element(By.XPATH ,p).get_attribute('src')\n",
    "p_img"
   ]
  },
  {
   "cell_type": "code",
   "execution_count": 7,
   "metadata": {},
   "outputs": [
    {
     "data": {
      "text/plain": [
       "'Kaffee & Tee'"
      ]
     },
     "execution_count": 7,
     "metadata": {},
     "output_type": "execute_result"
    }
   ],
   "source": [
    "p = '//*[@id=\"wrapper\"]/div[4]/div/ul/li[3]/a'\n",
    "p_categeory = driver.find_element(By.XPATH ,p).text\n",
    "p_categeory"
   ]
  },
  {
   "cell_type": "code",
   "execution_count": 8,
   "metadata": {},
   "outputs": [
    {
     "data": {
      "text/plain": [
       "'1,29 €'"
      ]
     },
     "execution_count": 8,
     "metadata": {},
     "output_type": "execute_result"
    }
   ],
   "source": [
    "p = '//*[@id=\"jq_widgetContainer_articleDetailsPrice\"]/div[1]/div'\n",
    "p_price = driver.find_element(By.XPATH ,p).text\n",
    "p_price"
   ]
  },
  {
   "cell_type": "code",
   "execution_count": 9,
   "metadata": {},
   "outputs": [
    {
     "ename": "TimeoutException",
     "evalue": "Message: \nStacktrace:\nBacktrace:\n\tGetHandleVerifier [0x0045DCE3+50899]\n\t(No symbol) [0x003EE111]\n\t(No symbol) [0x002F5588]\n\t(No symbol) [0x003208F9]\n\t(No symbol) [0x00320AFB]\n\t(No symbol) [0x0034F902]\n\t(No symbol) [0x0033B944]\n\t(No symbol) [0x0034E01C]\n\t(No symbol) [0x0033B6F6]\n\t(No symbol) [0x00317708]\n\t(No symbol) [0x0031886D]\n\tGetHandleVerifier [0x006C3EAE+2566302]\n\tGetHandleVerifier [0x006F92B1+2784417]\n\tGetHandleVerifier [0x006F327C+2759788]\n\tGetHandleVerifier [0x004F5740+672048]\n\t(No symbol) [0x003F8872]\n\t(No symbol) [0x003F41C8]\n\t(No symbol) [0x003F42AB]\n\t(No symbol) [0x003E71B7]\n\tBaseThreadInitThunk [0x768F7D49+25]\n\tRtlInitializeExceptionChain [0x7758B74B+107]\n\tRtlClearBits [0x7758B6CF+191]\n",
     "output_type": "error",
     "traceback": [
      "\u001b[1;31m---------------------------------------------------------------------------\u001b[0m",
      "\u001b[1;31mTimeoutException\u001b[0m                          Traceback (most recent call last)",
      "Cell \u001b[1;32mIn[9], line 27\u001b[0m\n\u001b[0;32m     22\u001b[0m     li \u001b[39m=\u001b[39m \u001b[39mlist\u001b[39m(\u001b[39mfilter\u001b[39m(\u001b[39mlambda\u001b[39;00m x: x\u001b[39m.\u001b[39mstrip(), li))\n\u001b[0;32m     24\u001b[0m     \u001b[39mreturn\u001b[39;00m prod_rate ,li\n\u001b[1;32m---> 27\u001b[0m prod_rating , prod_reviews \u001b[39m=\u001b[39m get_rate_reviews(url)\n\u001b[0;32m     28\u001b[0m \u001b[39mprint\u001b[39m(prod_rating ,\u001b[39m\"\u001b[39m\u001b[39m - \u001b[39m\u001b[39m\"\u001b[39m ,prod_reviews)\n",
      "Cell \u001b[1;32mIn[9], line 9\u001b[0m, in \u001b[0;36mget_rate_reviews\u001b[1;34m(url)\u001b[0m\n\u001b[0;32m      6\u001b[0m wait \u001b[39m=\u001b[39m WebDriverWait(driver, \u001b[39m5\u001b[39m)\n\u001b[0;32m      8\u001b[0m p \u001b[39m=\u001b[39m\u001b[39m'\u001b[39m\u001b[39m//*[@id=\u001b[39m\u001b[39m\"\u001b[39m\u001b[39mtsItemRatings\u001b[39m\u001b[39m\"\u001b[39m\u001b[39m]/div/div[2]\u001b[39m\u001b[39m'\u001b[39m\n\u001b[1;32m----> 9\u001b[0m element \u001b[39m=\u001b[39m wait\u001b[39m.\u001b[39;49muntil(EC\u001b[39m.\u001b[39;49mpresence_of_element_located((By\u001b[39m.\u001b[39;49mXPATH, p)))\n\u001b[0;32m     10\u001b[0m dynamic_content \u001b[39m=\u001b[39m driver\u001b[39m.\u001b[39mfind_element(By\u001b[39m.\u001b[39mXPATH, p)\n\u001b[0;32m     11\u001b[0m prod_rate \u001b[39m=\u001b[39m dynamic_content\u001b[39m.\u001b[39mtext\u001b[39m.\u001b[39msplit(\u001b[39m'\u001b[39m\u001b[39m/\u001b[39m\u001b[39m'\u001b[39m)[\u001b[39m0\u001b[39m]\n",
      "File \u001b[1;32mc:\\Users\\USER\\miniconda3\\envs\\recsys\\Lib\\site-packages\\selenium\\webdriver\\support\\wait.py:95\u001b[0m, in \u001b[0;36mWebDriverWait.until\u001b[1;34m(self, method, message)\u001b[0m\n\u001b[0;32m     93\u001b[0m     \u001b[39mif\u001b[39;00m time\u001b[39m.\u001b[39mmonotonic() \u001b[39m>\u001b[39m end_time:\n\u001b[0;32m     94\u001b[0m         \u001b[39mbreak\u001b[39;00m\n\u001b[1;32m---> 95\u001b[0m \u001b[39mraise\u001b[39;00m TimeoutException(message, screen, stacktrace)\n",
      "\u001b[1;31mTimeoutException\u001b[0m: Message: \nStacktrace:\nBacktrace:\n\tGetHandleVerifier [0x0045DCE3+50899]\n\t(No symbol) [0x003EE111]\n\t(No symbol) [0x002F5588]\n\t(No symbol) [0x003208F9]\n\t(No symbol) [0x00320AFB]\n\t(No symbol) [0x0034F902]\n\t(No symbol) [0x0033B944]\n\t(No symbol) [0x0034E01C]\n\t(No symbol) [0x0033B6F6]\n\t(No symbol) [0x00317708]\n\t(No symbol) [0x0031886D]\n\tGetHandleVerifier [0x006C3EAE+2566302]\n\tGetHandleVerifier [0x006F92B1+2784417]\n\tGetHandleVerifier [0x006F327C+2759788]\n\tGetHandleVerifier [0x004F5740+672048]\n\t(No symbol) [0x003F8872]\n\t(No symbol) [0x003F41C8]\n\t(No symbol) [0x003F42AB]\n\t(No symbol) [0x003E71B7]\n\tBaseThreadInitThunk [0x768F7D49+25]\n\tRtlInitializeExceptionChain [0x7758B74B+107]\n\tRtlClearBits [0x7758B6CF+191]\n"
     ]
    }
   ],
   "source": [
    "def get_rate_reviews(url):\n",
    "\n",
    "\n",
    "    driver = webdriver.Chrome(options = options)\n",
    "    driver.get(url)\n",
    "    wait = WebDriverWait(driver, 5)\n",
    "\n",
    "    p ='//*[@id=\"tsItemRatings\"]/div/div[2]'\n",
    "    element = wait.until(EC.presence_of_element_located((By.XPATH, p)))\n",
    "    dynamic_content = driver.find_element(By.XPATH, p)\n",
    "    prod_rate = dynamic_content.text.split('/')[0]\n",
    "    \n",
    "    wait = WebDriverWait(driver, 5)\n",
    "    p ='//*[@id=\"trustedshops-productreviews-sticker-wrapper\"]/div[1]/div[2]/ul'\n",
    "    ul = wait.until(EC.presence_of_element_located((By.XPATH, p)))\n",
    "    inner_html = ul.get_attribute('innerHTML')\n",
    "    soup = BeautifulSoup(inner_html, 'html.parser')\n",
    "    driver.quit()\n",
    "    \n",
    "    li = soup.find_all(class_='ts-review-text')\n",
    "    li = [item.text for item in li]\n",
    "    li = list(filter(lambda x: x.strip(), li))\n",
    "\n",
    "    return prod_rate ,li\n",
    "\n",
    "\n",
    "prod_rating , prod_reviews = get_rate_reviews(url)\n",
    "print(prod_rating ,\" - \" ,prod_reviews)"
   ]
  },
  {
   "attachments": {},
   "cell_type": "markdown",
   "metadata": {},
   "source": [
    "Getting All Products Links On Edeka"
   ]
  },
  {
   "cell_type": "code",
   "execution_count": 10,
   "metadata": {},
   "outputs": [],
   "source": [
    "all_sub_groceries = ['https://www.edeka24.de/Lebensmittel/Kaffee-Tee/' , 'https://www.edeka24.de/Lebensmittel/Getraenke/' ,\n",
    "                     'https://www.edeka24.de/Lebensmittel/Backen-Desserts/','https://www.edeka24.de/Lebensmittel/Fruehstueck-Snacks/',\n",
    "                     'https://www.edeka24.de/Lebensmittel/Wuerzmittel-Bruehen/','https://www.edeka24.de/Lebensmittel/Sossen/',\n",
    "                     'https://www.edeka24.de/Lebensmittel/Beilagen/','https://www.edeka24.de/Lebensmittel/Konserven/',\n",
    "                     'https://www.edeka24.de/Lebensmittel/Suess-Salzig/','https://www.edeka24.de/Lebensmittel/Fertiggerichte/',\n",
    "                     'https://www.edeka24.de/Lebensmittel/Internationales/'\n",
    "\n",
    "                    \n",
    "                    ]\n",
    "all_links = []"
   ]
  },
  {
   "cell_type": "code",
   "execution_count": 11,
   "metadata": {},
   "outputs": [
    {
     "name": "stdout",
     "output_type": "stream",
     "text": [
      "https://www.edeka24.de/Lebensmittel/Kaffee-Tee/?pgNr=16\n",
      "https://www.edeka24.de/Lebensmittel/Kaffee-Tee/?pgNr=15\n",
      "https://www.edeka24.de/Lebensmittel/Kaffee-Tee/?pgNr=14\n",
      "https://www.edeka24.de/Lebensmittel/Kaffee-Tee/?pgNr=13\n",
      "https://www.edeka24.de/Lebensmittel/Kaffee-Tee/?pgNr=12\n",
      "https://www.edeka24.de/Lebensmittel/Kaffee-Tee/?pgNr=11\n",
      "https://www.edeka24.de/Lebensmittel/Kaffee-Tee/?pgNr=10\n",
      "https://www.edeka24.de/Lebensmittel/Kaffee-Tee/?pgNr=9\n",
      "https://www.edeka24.de/Lebensmittel/Kaffee-Tee/?pgNr=8\n",
      "https://www.edeka24.de/Lebensmittel/Kaffee-Tee/?pgNr=7\n",
      "https://www.edeka24.de/Lebensmittel/Kaffee-Tee/?pgNr=6\n",
      "https://www.edeka24.de/Lebensmittel/Kaffee-Tee/?pgNr=5\n",
      "https://www.edeka24.de/Lebensmittel/Kaffee-Tee/?pgNr=4\n",
      "https://www.edeka24.de/Lebensmittel/Kaffee-Tee/?pgNr=3\n",
      "https://www.edeka24.de/Lebensmittel/Kaffee-Tee/?pgNr=2\n",
      "https://www.edeka24.de/Lebensmittel/Kaffee-Tee/?pgNr=1\n",
      "https://www.edeka24.de/Lebensmittel/Getraenke/?pgNr=11\n",
      "https://www.edeka24.de/Lebensmittel/Getraenke/?pgNr=10\n",
      "https://www.edeka24.de/Lebensmittel/Getraenke/?pgNr=9\n",
      "https://www.edeka24.de/Lebensmittel/Getraenke/?pgNr=8\n",
      "https://www.edeka24.de/Lebensmittel/Getraenke/?pgNr=7\n",
      "https://www.edeka24.de/Lebensmittel/Getraenke/?pgNr=6\n",
      "https://www.edeka24.de/Lebensmittel/Getraenke/?pgNr=5\n",
      "https://www.edeka24.de/Lebensmittel/Getraenke/?pgNr=4\n",
      "https://www.edeka24.de/Lebensmittel/Getraenke/?pgNr=3\n",
      "https://www.edeka24.de/Lebensmittel/Getraenke/?pgNr=2\n",
      "https://www.edeka24.de/Lebensmittel/Getraenke/?pgNr=1\n",
      "https://www.edeka24.de/Lebensmittel/Backen-Desserts/?pgNr=14\n",
      "https://www.edeka24.de/Lebensmittel/Backen-Desserts/?pgNr=13\n",
      "https://www.edeka24.de/Lebensmittel/Backen-Desserts/?pgNr=12\n",
      "https://www.edeka24.de/Lebensmittel/Backen-Desserts/?pgNr=11\n",
      "https://www.edeka24.de/Lebensmittel/Backen-Desserts/?pgNr=10\n",
      "https://www.edeka24.de/Lebensmittel/Backen-Desserts/?pgNr=9\n",
      "https://www.edeka24.de/Lebensmittel/Backen-Desserts/?pgNr=8\n",
      "https://www.edeka24.de/Lebensmittel/Backen-Desserts/?pgNr=7\n",
      "https://www.edeka24.de/Lebensmittel/Backen-Desserts/?pgNr=6\n",
      "https://www.edeka24.de/Lebensmittel/Backen-Desserts/?pgNr=5\n",
      "https://www.edeka24.de/Lebensmittel/Backen-Desserts/?pgNr=4\n",
      "https://www.edeka24.de/Lebensmittel/Backen-Desserts/?pgNr=3\n",
      "https://www.edeka24.de/Lebensmittel/Backen-Desserts/?pgNr=2\n",
      "https://www.edeka24.de/Lebensmittel/Backen-Desserts/?pgNr=1\n",
      "https://www.edeka24.de/Lebensmittel/Fruehstueck-Snacks/?pgNr=22\n",
      "https://www.edeka24.de/Lebensmittel/Fruehstueck-Snacks/?pgNr=21\n",
      "https://www.edeka24.de/Lebensmittel/Fruehstueck-Snacks/?pgNr=20\n",
      "https://www.edeka24.de/Lebensmittel/Fruehstueck-Snacks/?pgNr=19\n",
      "https://www.edeka24.de/Lebensmittel/Fruehstueck-Snacks/?pgNr=18\n",
      "https://www.edeka24.de/Lebensmittel/Fruehstueck-Snacks/?pgNr=17\n",
      "https://www.edeka24.de/Lebensmittel/Fruehstueck-Snacks/?pgNr=16\n",
      "https://www.edeka24.de/Lebensmittel/Fruehstueck-Snacks/?pgNr=15\n",
      "https://www.edeka24.de/Lebensmittel/Fruehstueck-Snacks/?pgNr=14\n",
      "https://www.edeka24.de/Lebensmittel/Fruehstueck-Snacks/?pgNr=13\n",
      "https://www.edeka24.de/Lebensmittel/Fruehstueck-Snacks/?pgNr=12\n",
      "https://www.edeka24.de/Lebensmittel/Fruehstueck-Snacks/?pgNr=11\n",
      "https://www.edeka24.de/Lebensmittel/Fruehstueck-Snacks/?pgNr=10\n",
      "https://www.edeka24.de/Lebensmittel/Fruehstueck-Snacks/?pgNr=9\n",
      "https://www.edeka24.de/Lebensmittel/Fruehstueck-Snacks/?pgNr=8\n",
      "https://www.edeka24.de/Lebensmittel/Fruehstueck-Snacks/?pgNr=7\n",
      "https://www.edeka24.de/Lebensmittel/Fruehstueck-Snacks/?pgNr=6\n",
      "https://www.edeka24.de/Lebensmittel/Fruehstueck-Snacks/?pgNr=5\n",
      "https://www.edeka24.de/Lebensmittel/Fruehstueck-Snacks/?pgNr=4\n",
      "https://www.edeka24.de/Lebensmittel/Fruehstueck-Snacks/?pgNr=3\n",
      "https://www.edeka24.de/Lebensmittel/Fruehstueck-Snacks/?pgNr=2\n",
      "https://www.edeka24.de/Lebensmittel/Fruehstueck-Snacks/?pgNr=1\n",
      "https://www.edeka24.de/Lebensmittel/Wuerzmittel-Bruehen/?pgNr=13\n",
      "https://www.edeka24.de/Lebensmittel/Wuerzmittel-Bruehen/?pgNr=12\n",
      "https://www.edeka24.de/Lebensmittel/Wuerzmittel-Bruehen/?pgNr=11\n",
      "https://www.edeka24.de/Lebensmittel/Wuerzmittel-Bruehen/?pgNr=10\n",
      "https://www.edeka24.de/Lebensmittel/Wuerzmittel-Bruehen/?pgNr=9\n",
      "https://www.edeka24.de/Lebensmittel/Wuerzmittel-Bruehen/?pgNr=8\n",
      "https://www.edeka24.de/Lebensmittel/Wuerzmittel-Bruehen/?pgNr=7\n",
      "https://www.edeka24.de/Lebensmittel/Wuerzmittel-Bruehen/?pgNr=6\n",
      "https://www.edeka24.de/Lebensmittel/Wuerzmittel-Bruehen/?pgNr=5\n",
      "https://www.edeka24.de/Lebensmittel/Wuerzmittel-Bruehen/?pgNr=4\n",
      "https://www.edeka24.de/Lebensmittel/Wuerzmittel-Bruehen/?pgNr=3\n",
      "https://www.edeka24.de/Lebensmittel/Wuerzmittel-Bruehen/?pgNr=2\n",
      "https://www.edeka24.de/Lebensmittel/Wuerzmittel-Bruehen/?pgNr=1\n",
      "https://www.edeka24.de/Lebensmittel/Sossen/?pgNr=20\n",
      "https://www.edeka24.de/Lebensmittel/Sossen/?pgNr=19\n",
      "https://www.edeka24.de/Lebensmittel/Sossen/?pgNr=18\n",
      "https://www.edeka24.de/Lebensmittel/Sossen/?pgNr=17\n",
      "https://www.edeka24.de/Lebensmittel/Sossen/?pgNr=16\n",
      "https://www.edeka24.de/Lebensmittel/Sossen/?pgNr=15\n",
      "https://www.edeka24.de/Lebensmittel/Sossen/?pgNr=14\n",
      "https://www.edeka24.de/Lebensmittel/Sossen/?pgNr=13\n",
      "https://www.edeka24.de/Lebensmittel/Sossen/?pgNr=12\n",
      "https://www.edeka24.de/Lebensmittel/Sossen/?pgNr=11\n",
      "https://www.edeka24.de/Lebensmittel/Sossen/?pgNr=10\n",
      "https://www.edeka24.de/Lebensmittel/Sossen/?pgNr=9\n",
      "https://www.edeka24.de/Lebensmittel/Sossen/?pgNr=8\n",
      "https://www.edeka24.de/Lebensmittel/Sossen/?pgNr=7\n",
      "https://www.edeka24.de/Lebensmittel/Sossen/?pgNr=6\n",
      "https://www.edeka24.de/Lebensmittel/Sossen/?pgNr=5\n",
      "https://www.edeka24.de/Lebensmittel/Sossen/?pgNr=4\n",
      "https://www.edeka24.de/Lebensmittel/Sossen/?pgNr=3\n",
      "https://www.edeka24.de/Lebensmittel/Sossen/?pgNr=2\n",
      "https://www.edeka24.de/Lebensmittel/Sossen/?pgNr=1\n",
      "https://www.edeka24.de/Lebensmittel/Beilagen/?pgNr=10\n",
      "https://www.edeka24.de/Lebensmittel/Beilagen/?pgNr=9\n",
      "https://www.edeka24.de/Lebensmittel/Beilagen/?pgNr=8\n",
      "https://www.edeka24.de/Lebensmittel/Beilagen/?pgNr=7\n",
      "https://www.edeka24.de/Lebensmittel/Beilagen/?pgNr=6\n",
      "https://www.edeka24.de/Lebensmittel/Beilagen/?pgNr=5\n",
      "https://www.edeka24.de/Lebensmittel/Beilagen/?pgNr=4\n",
      "https://www.edeka24.de/Lebensmittel/Beilagen/?pgNr=3\n",
      "https://www.edeka24.de/Lebensmittel/Beilagen/?pgNr=2\n",
      "https://www.edeka24.de/Lebensmittel/Beilagen/?pgNr=1\n",
      "https://www.edeka24.de/Lebensmittel/Konserven/?pgNr=15\n",
      "https://www.edeka24.de/Lebensmittel/Konserven/?pgNr=14\n",
      "https://www.edeka24.de/Lebensmittel/Konserven/?pgNr=13\n",
      "https://www.edeka24.de/Lebensmittel/Konserven/?pgNr=12\n",
      "https://www.edeka24.de/Lebensmittel/Konserven/?pgNr=11\n",
      "https://www.edeka24.de/Lebensmittel/Konserven/?pgNr=10\n",
      "https://www.edeka24.de/Lebensmittel/Konserven/?pgNr=9\n",
      "https://www.edeka24.de/Lebensmittel/Konserven/?pgNr=8\n",
      "https://www.edeka24.de/Lebensmittel/Konserven/?pgNr=7\n",
      "https://www.edeka24.de/Lebensmittel/Konserven/?pgNr=6\n",
      "https://www.edeka24.de/Lebensmittel/Konserven/?pgNr=5\n",
      "https://www.edeka24.de/Lebensmittel/Konserven/?pgNr=4\n",
      "https://www.edeka24.de/Lebensmittel/Konserven/?pgNr=3\n",
      "https://www.edeka24.de/Lebensmittel/Konserven/?pgNr=2\n",
      "https://www.edeka24.de/Lebensmittel/Konserven/?pgNr=1\n",
      "https://www.edeka24.de/Lebensmittel/Suess-Salzig/?pgNr=28\n",
      "https://www.edeka24.de/Lebensmittel/Suess-Salzig/?pgNr=27\n",
      "https://www.edeka24.de/Lebensmittel/Suess-Salzig/?pgNr=26\n",
      "https://www.edeka24.de/Lebensmittel/Suess-Salzig/?pgNr=25\n",
      "https://www.edeka24.de/Lebensmittel/Suess-Salzig/?pgNr=24\n",
      "https://www.edeka24.de/Lebensmittel/Suess-Salzig/?pgNr=23\n",
      "https://www.edeka24.de/Lebensmittel/Suess-Salzig/?pgNr=22\n",
      "https://www.edeka24.de/Lebensmittel/Suess-Salzig/?pgNr=21\n",
      "https://www.edeka24.de/Lebensmittel/Suess-Salzig/?pgNr=20\n",
      "https://www.edeka24.de/Lebensmittel/Suess-Salzig/?pgNr=19\n",
      "https://www.edeka24.de/Lebensmittel/Suess-Salzig/?pgNr=18\n",
      "https://www.edeka24.de/Lebensmittel/Suess-Salzig/?pgNr=17\n",
      "https://www.edeka24.de/Lebensmittel/Suess-Salzig/?pgNr=16\n",
      "https://www.edeka24.de/Lebensmittel/Suess-Salzig/?pgNr=15\n",
      "https://www.edeka24.de/Lebensmittel/Suess-Salzig/?pgNr=14\n",
      "https://www.edeka24.de/Lebensmittel/Suess-Salzig/?pgNr=13\n",
      "https://www.edeka24.de/Lebensmittel/Suess-Salzig/?pgNr=12\n",
      "https://www.edeka24.de/Lebensmittel/Suess-Salzig/?pgNr=11\n",
      "https://www.edeka24.de/Lebensmittel/Suess-Salzig/?pgNr=10\n",
      "https://www.edeka24.de/Lebensmittel/Suess-Salzig/?pgNr=9\n",
      "https://www.edeka24.de/Lebensmittel/Suess-Salzig/?pgNr=8\n",
      "https://www.edeka24.de/Lebensmittel/Suess-Salzig/?pgNr=7\n",
      "https://www.edeka24.de/Lebensmittel/Suess-Salzig/?pgNr=6\n",
      "https://www.edeka24.de/Lebensmittel/Suess-Salzig/?pgNr=5\n",
      "https://www.edeka24.de/Lebensmittel/Suess-Salzig/?pgNr=4\n",
      "https://www.edeka24.de/Lebensmittel/Suess-Salzig/?pgNr=3\n",
      "https://www.edeka24.de/Lebensmittel/Suess-Salzig/?pgNr=2\n",
      "https://www.edeka24.de/Lebensmittel/Suess-Salzig/?pgNr=1\n",
      "https://www.edeka24.de/Lebensmittel/Fertiggerichte/?pgNr=13\n",
      "https://www.edeka24.de/Lebensmittel/Fertiggerichte/?pgNr=12\n",
      "https://www.edeka24.de/Lebensmittel/Fertiggerichte/?pgNr=11\n",
      "https://www.edeka24.de/Lebensmittel/Fertiggerichte/?pgNr=10\n",
      "https://www.edeka24.de/Lebensmittel/Fertiggerichte/?pgNr=9\n",
      "https://www.edeka24.de/Lebensmittel/Fertiggerichte/?pgNr=8\n",
      "https://www.edeka24.de/Lebensmittel/Fertiggerichte/?pgNr=7\n",
      "https://www.edeka24.de/Lebensmittel/Fertiggerichte/?pgNr=6\n",
      "https://www.edeka24.de/Lebensmittel/Fertiggerichte/?pgNr=5\n",
      "https://www.edeka24.de/Lebensmittel/Fertiggerichte/?pgNr=4\n",
      "https://www.edeka24.de/Lebensmittel/Fertiggerichte/?pgNr=3\n",
      "https://www.edeka24.de/Lebensmittel/Fertiggerichte/?pgNr=2\n",
      "https://www.edeka24.de/Lebensmittel/Fertiggerichte/?pgNr=1\n",
      "https://www.edeka24.de/Lebensmittel/Internationales/?pgNr=6\n",
      "https://www.edeka24.de/Lebensmittel/Internationales/?pgNr=5\n",
      "https://www.edeka24.de/Lebensmittel/Internationales/?pgNr=4\n",
      "https://www.edeka24.de/Lebensmittel/Internationales/?pgNr=3\n",
      "https://www.edeka24.de/Lebensmittel/Internationales/?pgNr=2\n",
      "https://www.edeka24.de/Lebensmittel/Internationales/?pgNr=1\n"
     ]
    }
   ],
   "source": [
    "for url in all_sub_groceries:\n",
    "    response = requests.get(url)\n",
    "    soup = BeautifulSoup(response.content, 'lxml')\n",
    "    cnt = int(soup.find(class_='category-amount-articles').span.text)\n",
    "    cnt = int ( cnt / 30 )\n",
    "    cnt+=5\n",
    "    while(cnt>0):\n",
    "        extra = '?pgNr='+str(cnt)\n",
    "        temp_url = url + extra\n",
    "        print(temp_url)\n",
    "        response = requests.get(temp_url)\n",
    "        soup = BeautifulSoup(response.content, 'lxml')\n",
    "        prods = soup.find_all(class_='product-details')\n",
    "        [all_links.append(item.find('a')['href'].split('?')[0]) for item in prods]\n",
    "        cnt-=1"
   ]
  },
  {
   "cell_type": "code",
   "execution_count": 12,
   "metadata": {},
   "outputs": [
    {
     "data": {
      "text/plain": [
       "4841"
      ]
     },
     "execution_count": 12,
     "metadata": {},
     "output_type": "execute_result"
    }
   ],
   "source": [
    "len(all_links)"
   ]
  },
  {
   "cell_type": "code",
   "execution_count": 14,
   "metadata": {},
   "outputs": [],
   "source": [
    "#Saving Links \n",
    "with open('edeka_scrap\\Links.txt', 'w') as f:\n",
    "    for line in all_links:\n",
    "        f.write(f\"{line}\\n\")"
   ]
  },
  {
   "cell_type": "markdown",
   "metadata": {},
   "source": [
    "Scraping All Grocery Product On Edeka"
   ]
  },
  {
   "cell_type": "code",
   "execution_count": 16,
   "metadata": {},
   "outputs": [],
   "source": [
    "# Helper Functions\n",
    "\n",
    "def get_rate_reviews(driver , url):\n",
    "\n",
    "    wait = WebDriverWait(driver, 5)\n",
    "\n",
    "    p ='//*[@id=\"tsItemRatings\"]/div/div[2]'\n",
    "    element = wait.until(EC.presence_of_element_located((By.XPATH, p)))\n",
    "    dynamic_content = driver.find_element(By.XPATH, p)\n",
    "    prod_rate = dynamic_content.text.split('/')[0]\n",
    "    \n",
    "    wait = WebDriverWait(driver, 5)\n",
    "    p ='//*[@id=\"trustedshops-productreviews-sticker-wrapper\"]/div[1]/div[2]/ul'\n",
    "    ul = wait.until(EC.presence_of_element_located((By.XPATH, p)))\n",
    "    inner_html = ul.get_attribute('innerHTML')\n",
    "    soup = BeautifulSoup(inner_html, 'html.parser')\n",
    "    driver.quit()\n",
    "    \n",
    "    li = soup.find_all(class_='ts-review-text')\n",
    "    li = [item.text for item in li]\n",
    "    li = list(filter(lambda x: x.strip(), li))\n",
    "\n",
    "    return prod_rate ,li\n",
    "\n",
    "\n",
    "\n",
    "\n",
    "def scrap_product(url):\n",
    "    options = Options()\n",
    "    options.add_argument(\"--headless=new\")\n",
    "    driver = webdriver.Chrome(options = options)\n",
    "    driver.get(url)\n",
    "    p_name = driver.find_element(By.XPATH, '//*[@id=\"wrapper\"]/div[5]/div/div[2]/div[1]/div[2]/h1').text\n",
    "    p_brand = p_name.split(' ')[0]\n",
    "    p_desc = driver.find_element(By.XPATH ,'//*[@id=\"description\"]').text.strip().replace('\\n', '')\n",
    "    p_img =  driver.find_element(By.XPATH ,'//*[@id=\"wrapper\"]/div[5]/div/div[2]/div[1]/div[1]/div/img').get_attribute('src')\n",
    "    p_categeory = driver.find_element(By.XPATH ,'//*[@id=\"wrapper\"]/div[4]/div/ul/li[3]/a').text\n",
    "    p_price = driver.find_element(By.XPATH ,'//*[@id=\"jq_widgetContainer_articleDetailsPrice\"]/div[1]/div').text\n",
    "\n",
    "    try:\n",
    "        prod_rate,prod_reviews = get_rate_reviews(driver ,url)\n",
    "    except:\n",
    "        prod_rate,prod_reviews = None , None\n",
    "    driver.quit()\n",
    "    product={}\n",
    "    product['PROD_NAME'] = p_name\n",
    "    product['PROD_BRAND'] = p_brand\n",
    "    product['PROD_RATINGS'] = prod_rate\n",
    "    product['PROD_REVIEWS'] = prod_reviews\n",
    "    product['PROD_LINK'] = url\n",
    "    product['PROD_IMAGE_URL'] = p_img\n",
    "    product['PROD_CATEGORY'] = p_categeory\n",
    "    product['PROD_PRICE'] = p_price\n",
    "    product['PROD_DESCRIPTION'] = p_desc\n",
    "    return product"
   ]
  },
  {
   "cell_type": "code",
   "execution_count": 17,
   "metadata": {},
   "outputs": [
    {
     "data": {
      "text/plain": [
       "{'PROD_NAME': 'EDEKA Bio Fettarme H-Milch 1,5% 1L',\n",
       " 'PROD_BRAND': 'EDEKA',\n",
       " 'PROD_RATINGS': None,\n",
       " 'PROD_REVIEWS': None,\n",
       " 'PROD_LINK': 'https://www.edeka24.de/Lebensmittel/Kaffee-Tee/EDEKA-Bio-Fettarme-H-Milch-1-5-1L.html',\n",
       " 'PROD_IMAGE_URL': 'https://www.edeka24.de/out/pictures/generated/product/1/540_540_90/bio_edeka_hmilch_fettarm_15_1l.jpg',\n",
       " 'PROD_CATEGORY': 'Kaffee & Tee',\n",
       " 'PROD_PRICE': '1,29 €',\n",
       " 'PROD_DESCRIPTION': 'Bio Fettarme H-Milch, 1,5% Fett, ultrahocherhitzt, homogenisiertultrahocherhitzthomogenisiert1,5% Fettaus kontrolliert ökologischer LandwirtschaftHinweis zur Aufbewahrung: Nach dem Öffnen kühl lagern und alsbaldig aufbrauchen.Verantwortliches Lebensmittelunternehmen:EDEKA ZENTRALE Stiftung & Co. KG, D-22291 HamburgÖko-Kontrollstellencode: AT-BIO-902'}"
      ]
     },
     "execution_count": 17,
     "metadata": {},
     "output_type": "execute_result"
    }
   ],
   "source": [
    "# Test \n",
    "scrap_product('https://www.edeka24.de/Lebensmittel/Kaffee-Tee/EDEKA-Bio-Fettarme-H-Milch-1-5-1L.html')"
   ]
  },
  {
   "cell_type": "code",
   "execution_count": 18,
   "metadata": {},
   "outputs": [
    {
     "data": {
      "text/plain": [
       "'https://www.edeka24.de/Lebensmittel/Kaffee-Tee/EDEKA-Bio-Fettarme-H-Milch-1-5-1L.html'"
      ]
     },
     "execution_count": 18,
     "metadata": {},
     "output_type": "execute_result"
    }
   ],
   "source": [
    "f = open('edeka_scrap\\Links.txt', 'r')\n",
    "content = f.read()\n",
    "content = content.replace('\\n','')\n",
    "content = content.split('https')\n",
    "content = content[1:]\n",
    "content = ['https'+link for link in content]\n",
    "content[0]"
   ]
  },
  {
   "cell_type": "code",
   "execution_count": 19,
   "metadata": {},
   "outputs": [
    {
     "name": "stdout",
     "output_type": "stream",
     "text": [
      "0\n",
      "https://www.edeka24.de/Lebensmittel/Kaffee-Tee/Weihenstephan-haltbare-Milch-3-5-1L.html\n"
     ]
    }
   ],
   "source": [
    "import time\n",
    "grocery_products_edeka = []\n",
    "cnt =0 \n",
    "for url in content:\n",
    "    try:\n",
    "        product = scrap_product(url)\n",
    "        grocery_products_edeka.append(product)\n",
    "    except:\n",
    "        print(url)\n",
    "        \n",
    "    if(cnt%10 == 0):\n",
    "        time.sleep(5)\n",
    "        print(cnt)\n",
    "    cnt+=1"
   ]
  },
  {
   "cell_type": "code",
   "execution_count": null,
   "metadata": {},
   "outputs": [],
   "source": [
    "df = pd.DataFrame(grocery_products_edeka)"
   ]
  },
  {
   "cell_type": "code",
   "execution_count": null,
   "metadata": {},
   "outputs": [],
   "source": [
    "df['PROD_RATINGS'].unique()"
   ]
  },
  {
   "cell_type": "code",
   "execution_count": null,
   "metadata": {},
   "outputs": [],
   "source": [
    "df['PROD_CATEGORY'].unique()"
   ]
  },
  {
   "cell_type": "code",
   "execution_count": null,
   "metadata": {},
   "outputs": [],
   "source": [
    "from googletrans import Translator, constants\n",
    "from pprint import pprint\n",
    "def translate(key):\n",
    "    translator = Translator()\n",
    "    if(key is None):\n",
    "        return None\n",
    "    \n",
    "    if isinstance(key, list):\n",
    "        return [translator.translate(i).text for i in key]\n",
    "    else :\n",
    "        translation = translator.translate(key)\n",
    "        return translation.text"
   ]
  },
  {
   "cell_type": "code",
   "execution_count": null,
   "metadata": {},
   "outputs": [],
   "source": [
    "# Translating All German Text Into English\n",
    "df['PROD_NAME'] = df['PROD_NAME'].apply(lambda x: translate(x))\n",
    "df['PROD_REVIEWS'] = df['PROD_REVIEWS'].apply(lambda x: translate(x))\n",
    "df['PROD_CATEGORY'] = df['PROD_CATEGORY'].apply(lambda x: translate(x))\n",
    "df['PROD_DESCRIPTION'] = df['PROD_DESCRIPTION'].apply(lambda x: translate(x))\n",
    "\n",
    "df['STORE_NAME'] = 'EDEKA'\n",
    "df['STORE_ID'] = None\n",
    "df['PROD_POPULARITY'] = None\n",
    "df['TEAM_MEMBER'] = 'Jia-Hau Ching'"
   ]
  },
  {
   "cell_type": "code",
   "execution_count": null,
   "metadata": {},
   "outputs": [],
   "source": [
    "df.to_csv(\"edeka_groceries_data_final.csv\")"
   ]
  },
  {
   "cell_type": "code",
   "execution_count": 13,
   "metadata": {},
   "outputs": [],
   "source": [
    "driver.close()"
   ]
  },
  {
   "cell_type": "code",
   "execution_count": null,
   "metadata": {},
   "outputs": [],
   "source": []
  }
 ],
 "metadata": {
  "kernelspec": {
   "display_name": "recsys",
   "language": "python",
   "name": "python3"
  },
  "language_info": {
   "codemirror_mode": {
    "name": "ipython",
    "version": 3
   },
   "file_extension": ".py",
   "mimetype": "text/x-python",
   "name": "python",
   "nbconvert_exporter": "python",
   "pygments_lexer": "ipython3",
   "version": "3.11.3"
  },
  "orig_nbformat": 4
 },
 "nbformat": 4,
 "nbformat_minor": 2
}
